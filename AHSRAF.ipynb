{
 "cells": [
  {
   "cell_type": "code",
   "execution_count": 1,
   "id": "790651ac",
   "metadata": {},
   "outputs": [
    {
     "name": "stdout",
     "output_type": "stream",
     "text": [
      "Enter employee name: mohamed ashraf\n",
      "Enter employee salary: 5000\n",
      "Enter employee position: manager\n",
      "\n",
      "Employee Information:\n",
      "Name: mohamed ashraf\n",
      "Salary: 5000.0\n",
      "Position: manager\n",
      "Enter customer name: maya mohamed\n",
      "Enter customer loan amount: 55555555\n",
      "Enter customer salary: 5000\n",
      "\n",
      "Customer Information:\n",
      "Name: maya mohamed\n",
      "Loan: 55555555.0\n",
      "Salary: 5000.0\n"
     ]
    }
   ],
   "source": [
    "class Customer:\n",
    "    def __init__(self, name, loan, salary):\n",
    "        self.name = name\n",
    "        self.loan = loan\n",
    "        self.salary = salary\n",
    "        self.account_balance = 0\n",
    "\n",
    "    def deposit(self, amount):\n",
    "        self.account_balance += amount\n",
    "\n",
    "    def withdraw(self, amount):\n",
    "        if self.account_balance >= amount:\n",
    "            self.account_balance -= amount\n",
    "            return amount\n",
    "        else:\n",
    "            return \"Insufficient funds\"\n",
    "\n",
    "    def get_account_balance(self):\n",
    "        return self.account_balance\n",
    "\n",
    "class Employee:\n",
    "    def __init__(self, name, salary, position):\n",
    "        self.name = name\n",
    "        self.salary = salary\n",
    "        self.position = position\n",
    "\n",
    "def create_employee():\n",
    "    name = input(\"Enter employee name: \")\n",
    "    salary = float(input(\"Enter employee salary: \"))\n",
    "    position = input(\"Enter employee position: \")\n",
    "    return Employee(name, salary, position)\n",
    "\n",
    "def create_customer():\n",
    "    name = input(\"Enter customer name: \")\n",
    "    loan = float(input(\"Enter customer loan amount: \"))\n",
    "    salary = float(input(\"Enter customer salary: \"))\n",
    "    return Customer(name, loan, salary)\n",
    "\n",
    "# Example usage:\n",
    "employee1 = create_employee()\n",
    "print(\"\\nEmployee Information:\")\n",
    "print(\"Name:\", employee1.name)\n",
    "print(\"Salary:\", employee1.salary)\n",
    "print(\"Position:\", employee1.position)\n",
    "\n",
    "customer1 = create_customer()\n",
    "print(\"\\nCustomer Information:\")\n",
    "print(\"Name:\", customer1.name)\n",
    "print(\"Loan:\", customer1.loan)\n",
    "print(\"Salary:\", customer1.salary)\n"
   ]
  },
  {
   "cell_type": "code",
   "execution_count": null,
   "id": "d11df0a2",
   "metadata": {},
   "outputs": [],
   "source": []
  }
 ],
 "metadata": {
  "kernelspec": {
   "display_name": "Python 3 (ipykernel)",
   "language": "python",
   "name": "python3"
  },
  "language_info": {
   "codemirror_mode": {
    "name": "ipython",
    "version": 3
   },
   "file_extension": ".py",
   "mimetype": "text/x-python",
   "name": "python",
   "nbconvert_exporter": "python",
   "pygments_lexer": "ipython3",
   "version": "3.11.3"
  }
 },
 "nbformat": 4,
 "nbformat_minor": 5
}
